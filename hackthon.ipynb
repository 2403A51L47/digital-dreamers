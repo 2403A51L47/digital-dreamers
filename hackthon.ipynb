{
  "nbformat": 4,
  "nbformat_minor": 0,
  "metadata": {
    "colab": {
      "provenance": [],
      "authorship_tag": "ABX9TyMNhH9JKsjmqS8ev5VEV4PU",
      "include_colab_link": true
    },
    "kernelspec": {
      "name": "python3",
      "display_name": "Python 3"
    },
    "language_info": {
      "name": "python"
    }
  },
  "cells": [
    {
      "cell_type": "markdown",
      "metadata": {
        "id": "view-in-github",
        "colab_type": "text"
      },
      "source": [
        "<a href=\"https://colab.research.google.com/github/2403A51L47/digital-dreamers/blob/main/hackthon.ipynb\" target=\"_parent\"><img src=\"https://colab.research.google.com/assets/colab-badge.svg\" alt=\"Open In Colab\"/></a>"
      ]
    },
    {
      "cell_type": "code",
      "source": [
        "def recommend_learning(score, style):\n",
        "    if score >= 80:\n",
        "        level = \"Advanced\"\n",
        "    elif score >= 50:\n",
        "        level = \"Intermediate\"\n",
        "    else:\n",
        "        level = \"Beginner\"\n",
        "\n",
        "    return f\"Recommended: {level} level course with {style.lower()} content.\"\n",
        "\n",
        "num_students = int(input(\"Enter number of students: \"))\n",
        "\n",
        "for i in range(num_students):\n",
        "    name = input(f\"\\nEnter student {i+1} name: \")\n",
        "\n",
        "    while True:\n",
        "        try:\n",
        "            score = int(input(f\"Enter {name}'s score (0-100): \"))\n",
        "            if 0 <= score <= 100:\n",
        "                break\n",
        "            else:\n",
        "                print(\"Score must be between 0 and 100.\")\n",
        "        except ValueError:\n",
        "            print(\"Please enter a valid number.\")\n",
        "\n",
        "    style = input(f\"Enter {name}'s preferred learning style (video/interactive/reading): \").lower()\n",
        "    while style not in ['video', 'interactive', 'reading']:\n",
        "        style = input(\"Please enter a valid style (video/interactive/reading): \").lower()\n",
        "\n",
        "    print(f\"\\n👩‍🎓 {name} (Score: {score}, Style: {style.capitalize()})\")\n",
        "    print(recommend_learning(score, style))\n"
      ],
      "metadata": {
        "colab": {
          "base_uri": "https://localhost:8080/"
        },
        "id": "G6BD-nIEVPt4",
        "outputId": "4d70bef9-1d0b-4299-b8a7-dad629057c1a"
      },
      "execution_count": 6,
      "outputs": [
        {
          "output_type": "stream",
          "name": "stdout",
          "text": [
            "Enter number of students: 3\n",
            "\n",
            "Enter student 1 name: akash\n",
            "Enter akash's score (0-100): 80\n",
            "Enter akash's preferred learning style (video/interactive/reading): video\n",
            "\n",
            "👩‍🎓 akash (Score: 80, Style: Video)\n",
            "Recommended: Advanced level course with video content.\n",
            "\n",
            "Enter student 2 name: krishna\n",
            "Enter krishna's score (0-100): 60\n",
            "Enter krishna's preferred learning style (video/interactive/reading): interactive\n",
            "\n",
            "👩‍🎓 krishna (Score: 60, Style: Interactive)\n",
            "Recommended: Intermediate level course with interactive content.\n",
            "\n",
            "Enter student 3 name: kailash\n",
            "Enter kailash's score (0-100): 90\n",
            "Enter kailash's preferred learning style (video/interactive/reading): reading\n",
            "\n",
            "👩‍🎓 kailash (Score: 90, Style: Reading)\n",
            "Recommended: Advanced level course with reading content.\n"
          ]
        }
      ]
    }
  ]
}